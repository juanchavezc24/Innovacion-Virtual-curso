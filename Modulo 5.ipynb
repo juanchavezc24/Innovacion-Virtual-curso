{
 "cells": [
  {
   "cell_type": "code",
   "execution_count": 4,
   "metadata": {},
   "outputs": [
    {
     "name": "stdout",
     "output_type": "stream",
     "text": [
      "Distancia en kilometros: 628949330Km\n",
      "Distancia en millas: 390577533.93Mi\n"
     ]
    }
   ],
   "source": [
    "#Ejercicio 1\n",
    "\n",
    "# Crear variables para almacenar las dos distancias\n",
    "# ¡Asegúrate de quitar las comas!\n",
    "\n",
    "first_planet = 149597870\n",
    "second_planet = 778547200\n",
    "\n",
    "# Calcular la distancia entre planetas\n",
    "\n",
    "distance_km = second_planet - first_planet\n",
    "print(\"Distancia en kilometros: %sKm\" %distance_km)\n",
    "\n",
    "distance_mi = distance_km * 0.621\n",
    "print(\"Distancia en millas: %sMi\" %distance_mi)"
   ]
  },
  {
   "cell_type": "code",
   "execution_count": 7,
   "metadata": {},
   "outputs": [
    {
     "name": "stdout",
     "output_type": "stream",
     "text": [
      "600\n",
      "372.6\n"
     ]
    }
   ],
   "source": [
    "#Ejercicio 2\n",
    "\n",
    "# Almacenar las entradas del usuario\n",
    "first_planet = input('Ingrese la distancia del sol a el primer planeta en KM')\n",
    "second_planet = input('Ingrese la distancia del sol a el segundo planeta en KM')\n",
    "\n",
    "# Convierte las cadenas de ambos planetas a números enteros\n",
    "first_planet = int(first_planet)\n",
    "second_planet = int(second_planet)\n",
    "\n",
    "# Realizar el cálculo y determinar el valor absoluto\n",
    "distance_km = abs(second_planet - first_planet)\n",
    "print(\"Distancia en kilometros: %sKm\" %distance_km)\n",
    "\n",
    "# Convertir de KM a Millas\n",
    "distance_mi = distance_km * 0.621\n",
    "print(\"Distancia en millas: %sMi\" %distance_mi)"
   ]
  }
 ],
 "metadata": {
  "interpreter": {
   "hash": "eca2442e2907c1e132d717fe9737e0275bcec6282a05aeaa826cb037b1c2c370"
  },
  "kernelspec": {
   "display_name": "Python 3.10.2 64-bit",
   "language": "python",
   "name": "python3"
  },
  "language_info": {
   "codemirror_mode": {
    "name": "ipython",
    "version": 3
   },
   "file_extension": ".py",
   "mimetype": "text/x-python",
   "name": "python",
   "nbconvert_exporter": "python",
   "pygments_lexer": "ipython3",
   "version": "3.10.2"
  },
  "orig_nbformat": 4
 },
 "nbformat": 4,
 "nbformat_minor": 2
}
