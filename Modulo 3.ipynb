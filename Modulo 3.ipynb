{
 "cells": [
  {
   "cell_type": "code",
   "execution_count": 10,
   "metadata": {},
   "outputs": [
    {
     "name": "stdout",
     "output_type": "stream",
     "text": [
      "Nothing to see here\n"
     ]
    }
   ],
   "source": [
    "# Añadir el código necesario para crear una variable que guarde la velocidad del asteroide.\n",
    "# Escribe una expresión de prueba para calcular si necesita una advertencia.\n",
    "# Agregue las instrucciones que se ejecutarán si la expresión de prueba es true o false.\n",
    "\n",
    "asteroid = 49\n",
    "if asteroid > 25:\n",
    "    print('Cuidado! Se acerca Un asteroide a una gran velocidad!')\n",
    "else:\n",
    "    print('Nothing to see here')"
   ]
  },
  {
   "cell_type": "code",
   "execution_count": 11,
   "metadata": {},
   "outputs": [
    {
     "name": "stdout",
     "output_type": "stream",
     "text": [
      "Nothing to see here\n"
     ]
    }
   ],
   "source": [
    "# Agrega el código para crear una variable para un asteroide que viaja a 19 km/s\n",
    "# Escribe varias expresiones de prueba para determinar si puedes ver el rayo de luz desde la tierra\n",
    "# Agrega las instrucciones que se ejecutarán si las expresiones de prueba son True o False\n",
    "\n",
    "asteroid = 19\n",
    "if asteroid > 20:\n",
    "    print('Si miras hacia arriba puedes ver el asteroide')\n",
    "elif asteroid == 20:\n",
    "    print('Si miras hacia arriba puedes ver el asteroide')\n",
    "else:\n",
    "    print('Nothing to see here')"
   ]
  },
  {
   "cell_type": "code",
   "execution_count": 13,
   "metadata": {},
   "outputs": [
    {
     "name": "stdout",
     "output_type": "stream",
     "text": [
      "Si miras hacia arriba puedes ver el asteroide\n"
     ]
    }
   ],
   "source": [
    "# Agrega el código para crear nuevas variables para la velocidad y el tamaño del asteroide\n",
    "# Para probar el código, prueba con varias velocidades y tamaños\n",
    "# Escribe varias expresiones de prueba o combinaciones de expresiones de prueba para determinar qué mensaje se debe enviar a Tierra.\n",
    "\n",
    "asteroid_speed = 25\n",
    "asteroid_size = 40\n",
    "if asteroid_speed > 25 and asteroid_size > 25:\n",
    "    print('Cuidado! Se acerca Un asteroide de gran tamaño a muy alta velocidad!')\n",
    "elif asteroid_speed >= 20:\n",
    "    print('Si miras hacia arriba puedes ver el asteroide')\n",
    "elif asteroid_size < 25:\n",
    "    print('Nothing to see here')\n",
    "else:\n",
    "    print('Nothing to see here')"
   ]
  }
 ],
 "metadata": {
  "interpreter": {
   "hash": "eca2442e2907c1e132d717fe9737e0275bcec6282a05aeaa826cb037b1c2c370"
  },
  "kernelspec": {
   "display_name": "Python 3.10.2 64-bit",
   "language": "python",
   "name": "python3"
  },
  "language_info": {
   "codemirror_mode": {
    "name": "ipython",
    "version": 3
   },
   "file_extension": ".py",
   "mimetype": "text/x-python",
   "name": "python",
   "nbconvert_exporter": "python",
   "pygments_lexer": "ipython3",
   "version": "3.10.2"
  },
  "orig_nbformat": 4
 },
 "nbformat": 4,
 "nbformat_minor": 2
}
